{
 "cells": [
  {
   "cell_type": "code",
   "execution_count": null,
   "metadata": {},
   "outputs": [],
   "source": [
    "from collections import Counter\n",
    "from math import sqrt\n",
    "# Step 1: Calculate  Euclidean Distance\n",
    "def euclidean_distance(point1,point2):\n",
    "    distance = 0\n",
    "    for i in range(len(point1)-1):\n",
    "        distance += (point1[i] - point2[i])**2\n",
    "    return sqrt(distance)\n",
    "\n",
    "# Step 2: Get K Nearest Neighbors\n",
    "def get_neighbors(training_data,test_point,num_neighbors):\n",
    "    distances = []\n",
    "\n",
    "    for train_point in training_data:\n",
    "        distance = euclidean_distance(test_point,train_point)\n",
    "        distances.append((train_point,distance))\n",
    "\n",
    "    distances.sort(key = lambda dis : dis[1])\n",
    "    neighbors = [distances[k][0] for k in range(num_neighbors)]\n",
    "    return neighbors\n",
    "    \n",
    "# Step 3: Make Prediction\n",
    "def predict_classification(training_data,test_point,num_neighbors):\n",
    "    neighbors = get_neighbors(training_data,test_point,num_neighbors)\n",
    "    output_values = [neighbor[-1] for neighbor in neighbors]\n",
    "    prediction = Counter(output_values).most_common(1)[0][0]\n",
    "    return prediction"
   ]
  }
 ],
 "metadata": {
  "language_info": {
   "name": "python"
  }
 },
 "nbformat": 4,
 "nbformat_minor": 2
}
